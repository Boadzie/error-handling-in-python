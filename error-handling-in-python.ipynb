{
 "cells": [
  {
   "cell_type": "markdown",
   "id": "c15b8e78-bb49-456b-81eb-7d5dcaf2a81a",
   "metadata": {},
   "source": [
    "# This is the code for the article `Error Handling in Python`\n",
    "\n",
    "Error handling is a critical aspect of programming, and it involves detecting and resolving errors that occur during program execution. Python is a high-level programming language that provides built-in features and libraries for error handling, making it easier for developers to detect and handle errors in their programs"
   ]
  },
  {
   "cell_type": "markdown",
   "id": "d4608b1e-f0b8-4e0d-bace-72cac73a69ec",
   "metadata": {},
   "source": [
    "## Types of Errors in Python"
   ]
  },
  {
   "cell_type": "code",
   "execution_count": 1,
   "id": "43930a23-bda2-43db-b25e-00d65d8ef1b5",
   "metadata": {
    "tags": []
   },
   "outputs": [
    {
     "ename": "IndentationError",
     "evalue": "expected an indented block after function definition on line 2 (1438627888.py, line 3)",
     "output_type": "error",
     "traceback": [
      "\u001b[0;36m  Cell \u001b[0;32mIn[1], line 3\u001b[0;36m\u001b[0m\n\u001b[0;31m    return x + y\u001b[0m\n\u001b[0m    ^\u001b[0m\n\u001b[0;31mIndentationError\u001b[0m\u001b[0;31m:\u001b[0m expected an indented block after function definition on line 2\n"
     ]
    }
   ],
   "source": [
    "# incorrect indentation\n",
    "def add_numbers(x, y):\n",
    "return x + y\n"
   ]
  },
  {
   "cell_type": "code",
   "execution_count": 1,
   "id": "fff36ff5-9b62-4dd3-ac92-8eb492edd4b8",
   "metadata": {
    "tags": []
   },
   "outputs": [
    {
     "ename": "ZeroDivisionError",
     "evalue": "division by zero",
     "output_type": "error",
     "traceback": [
      "\u001b[0;31m---------------------------------------------------------------------------\u001b[0m",
      "\u001b[0;31mZeroDivisionError\u001b[0m                         Traceback (most recent call last)",
      "Cell \u001b[0;32mIn[1], line 4\u001b[0m\n\u001b[1;32m      2\u001b[0m a \u001b[38;5;241m=\u001b[39m \u001b[38;5;241m10\u001b[39m\n\u001b[1;32m      3\u001b[0m b \u001b[38;5;241m=\u001b[39m \u001b[38;5;241m0\u001b[39m\n\u001b[0;32m----> 4\u001b[0m c \u001b[38;5;241m=\u001b[39m \u001b[43ma\u001b[49m\u001b[38;5;241;43m/\u001b[39;49m\u001b[43mb\u001b[49m\n",
      "\u001b[0;31mZeroDivisionError\u001b[0m: division by zero"
     ]
    }
   ],
   "source": [
    "# dividing a number by zero\n",
    "a = 10\n",
    "b = 0\n",
    "c = a/b"
   ]
  },
  {
   "cell_type": "markdown",
   "id": "3db7f60a-eb6b-4a47-8ef1-1e22fa3655a6",
   "metadata": {},
   "source": [
    "## `Try-Except` Block"
   ]
  },
  {
   "cell_type": "code",
   "execution_count": 2,
   "id": "53cfb1db-bd83-4b45-81e8-1c80e07890c5",
   "metadata": {
    "tags": []
   },
   "outputs": [
    {
     "name": "stdout",
     "output_type": "stream",
     "text": [
      "Cannot divide by zero!\n"
     ]
    }
   ],
   "source": [
    "try:\n",
    "    a = 10\n",
    "    b = 0\n",
    "    c = a/b\n",
    "except ZeroDivisionError:\n",
    "    print(\"Cannot divide by zero!\")"
   ]
  },
  {
   "cell_type": "code",
   "execution_count": 3,
   "id": "eb298105-28f8-4aae-ab61-ec35977d8199",
   "metadata": {
    "tags": []
   },
   "outputs": [
    {
     "name": "stdout",
     "output_type": "stream",
     "text": [
      "Error: [Errno 2] No such file or directory: 'example.txt'\n"
     ]
    }
   ],
   "source": [
    "try:\n",
    "    with open('example.txt') as f:\n",
    "        data = f.read()\n",
    "except (FileNotFoundError, PermissionError) as e:\n",
    "    print(f\"Error: {e}\")"
   ]
  },
  {
   "cell_type": "code",
   "execution_count": 2,
   "id": "3d9c261a-e507-4381-baaf-95665bc01b00",
   "metadata": {
    "tags": []
   },
   "outputs": [
    {
     "name": "stdin",
     "output_type": "stream",
     "text": [
      "Enter a number:  w\n"
     ]
    },
    {
     "name": "stdout",
     "output_type": "stream",
     "text": [
      "Invalid input! Please enter a number.\n"
     ]
    }
   ],
   "source": [
    "try:\n",
    "    x = int(input(\"Enter a number: \"))\n",
    "except ValueError:\n",
    "    print(\"Invalid input! Please enter a number.\")"
   ]
  },
  {
   "cell_type": "markdown",
   "id": "9fa5e0a1-9c2d-49dd-8219-8fdeef8e2aea",
   "metadata": {},
   "source": [
    "## Handling Specific Exceptions"
   ]
  },
  {
   "cell_type": "code",
   "execution_count": 16,
   "id": "6bd1f3e7-72a5-400b-98eb-f3a3a2ba1175",
   "metadata": {
    "tags": []
   },
   "outputs": [
    {
     "name": "stdout",
     "output_type": "stream",
     "text": [
      "File not found!\n"
     ]
    }
   ],
   "source": [
    "try:\n",
    "    with open(\"file.txt\") as f:\n",
    "        content = f.read()\n",
    "        num = int(\"abc\")\n",
    "except FileNotFoundError:\n",
    "\tprint(\"File not found!\")\n",
    "except ValueError:\n",
    "\tprint(\"Invalid value!\")"
   ]
  },
  {
   "cell_type": "code",
   "execution_count": 11,
   "id": "b97a9c71-9425-4f00-82c9-5f5289c8a1aa",
   "metadata": {
    "tags": []
   },
   "outputs": [
    {
     "name": "stdout",
     "output_type": "stream",
     "text": [
      "Error: Invalid input!\n"
     ]
    }
   ],
   "source": [
    "try:\n",
    "    result = 10 / 0\n",
    "    value = int(\"abc\")\n",
    "    with open(\"file.txt\") as f:\n",
    "        content = f.read()\n",
    "except (ZeroDivisionError, ValueError):\n",
    "    print(\"Error: Invalid input!\")\n",
    "except FileNotFoundError:\n",
    "    print(\"Error: File not found!\")"
   ]
  },
  {
   "cell_type": "markdown",
   "id": "ab36ca08-0fe9-4cb3-9ac4-7a5e1a90ba42",
   "metadata": {},
   "source": [
    "## Raising Exceptions"
   ]
  },
  {
   "cell_type": "code",
   "execution_count": 12,
   "id": "0a068308-18e9-48c4-880c-2fd335f3ba53",
   "metadata": {
    "tags": []
   },
   "outputs": [
    {
     "ename": "ValueError",
     "evalue": "x should be less than or equal to 5",
     "output_type": "error",
     "traceback": [
      "\u001b[0;31m---------------------------------------------------------------------------\u001b[0m",
      "\u001b[0;31mValueError\u001b[0m                                Traceback (most recent call last)",
      "Cell \u001b[0;32mIn[12], line 3\u001b[0m\n\u001b[1;32m      1\u001b[0m x \u001b[38;5;241m=\u001b[39m \u001b[38;5;241m10\u001b[39m\n\u001b[1;32m      2\u001b[0m \u001b[38;5;28;01mif\u001b[39;00m x \u001b[38;5;241m>\u001b[39m \u001b[38;5;241m5\u001b[39m:\n\u001b[0;32m----> 3\u001b[0m     \u001b[38;5;28;01mraise\u001b[39;00m \u001b[38;5;167;01mValueError\u001b[39;00m(\u001b[38;5;124m\"\u001b[39m\u001b[38;5;124mx should be less than or equal to 5\u001b[39m\u001b[38;5;124m\"\u001b[39m)\n",
      "\u001b[0;31mValueError\u001b[0m: x should be less than or equal to 5"
     ]
    }
   ],
   "source": [
    "x = 10\n",
    "if x > 5:\n",
    "    raise ValueError(\"x should be less than or equal to 5\")"
   ]
  },
  {
   "cell_type": "code",
   "execution_count": 17,
   "id": "05591235-3be0-41e2-9ddd-1ae5b665177a",
   "metadata": {
    "tags": []
   },
   "outputs": [],
   "source": [
    "def get_element(data, index):\n",
    "\tif index >= len(data):\n",
    "    \t   raise IndexError(\"Index out of range\")\n",
    "\treturn data[index]\n"
   ]
  },
  {
   "cell_type": "code",
   "execution_count": 19,
   "id": "b122635a-0d4d-48b3-8e30-1f5e02578c08",
   "metadata": {
    "tags": []
   },
   "outputs": [
    {
     "ename": "IndexError",
     "evalue": "Index out of range",
     "output_type": "error",
     "traceback": [
      "\u001b[0;31m---------------------------------------------------------------------------\u001b[0m",
      "\u001b[0;31mIndexError\u001b[0m                                Traceback (most recent call last)",
      "Cell \u001b[0;32mIn[19], line 2\u001b[0m\n\u001b[1;32m      1\u001b[0m x \u001b[38;5;241m=\u001b[39m [\u001b[38;5;241m1\u001b[39m,\u001b[38;5;241m24\u001b[39m,\u001b[38;5;241m5\u001b[39m,\u001b[38;5;241m5\u001b[39m,\u001b[38;5;241m6\u001b[39m]\n\u001b[0;32m----> 2\u001b[0m \u001b[43mget_element\u001b[49m\u001b[43m(\u001b[49m\u001b[43mx\u001b[49m\u001b[43m,\u001b[49m\u001b[43m \u001b[49m\u001b[38;5;241;43m9\u001b[39;49m\u001b[43m)\u001b[49m\n",
      "Cell \u001b[0;32mIn[17], line 3\u001b[0m, in \u001b[0;36mget_element\u001b[0;34m(data, index)\u001b[0m\n\u001b[1;32m      1\u001b[0m \u001b[38;5;28;01mdef\u001b[39;00m \u001b[38;5;21mget_element\u001b[39m(data, index):\n\u001b[1;32m      2\u001b[0m \t\u001b[38;5;28;01mif\u001b[39;00m index \u001b[38;5;241m>\u001b[39m\u001b[38;5;241m=\u001b[39m \u001b[38;5;28mlen\u001b[39m(data):\n\u001b[0;32m----> 3\u001b[0m     \t   \u001b[38;5;28;01mraise\u001b[39;00m \u001b[38;5;167;01mIndexError\u001b[39;00m(\u001b[38;5;124m\"\u001b[39m\u001b[38;5;124mIndex out of range\u001b[39m\u001b[38;5;124m\"\u001b[39m)\n\u001b[1;32m      4\u001b[0m \t\u001b[38;5;28;01mreturn\u001b[39;00m data[index]\n",
      "\u001b[0;31mIndexError\u001b[0m: Index out of range"
     ]
    }
   ],
   "source": [
    "x = [1,24,5,5,6]\n",
    "get_element(x, 9)"
   ]
  },
  {
   "cell_type": "markdown",
   "id": "4dfefcf9-a105-4af2-9cf0-23efcc06c5b5",
   "metadata": {},
   "source": [
    "## Finally Block"
   ]
  },
  {
   "cell_type": "code",
   "execution_count": 20,
   "id": "629a7967-2527-41cf-a6ae-6116bd143cc3",
   "metadata": {
    "tags": []
   },
   "outputs": [
    {
     "name": "stdout",
     "output_type": "stream",
     "text": [
      "An error occurred!\n"
     ]
    }
   ],
   "source": [
    "file = None\n",
    "try:\n",
    "\tfile = open(\"file.txt\")\n",
    "\t# do some work with the file\n",
    "except:\n",
    "\tprint(\"An error occurred!\")\n",
    "finally:\n",
    "\tif file:\n",
    "    \t   file.close()\n"
   ]
  },
  {
   "cell_type": "code",
   "execution_count": 21,
   "id": "11859fa9-4bfc-43d9-8c43-637f267929b6",
   "metadata": {
    "tags": []
   },
   "outputs": [
    {
     "name": "stdout",
     "output_type": "stream",
     "text": [
      "An error occurred!\n"
     ]
    }
   ],
   "source": [
    "import os\n",
    "\n",
    "try:\n",
    "\tfile = open(\"file.txt\")\n",
    "\t# do some work with the file\n",
    "except:\n",
    "\tprint(\"An error occurred!\")\n",
    "finally:\n",
    "\tif file:\n",
    "    \t  file.close()\n",
    "\tif os.path.exists(\"file.txt\"):\n",
    "    \t   os.remove(\"file.txt\")\n"
   ]
  },
  {
   "cell_type": "markdown",
   "id": "821b3a75-f12a-4409-b010-5b71f12fb6c9",
   "metadata": {},
   "source": [
    "## Assert Statements"
   ]
  },
  {
   "cell_type": "code",
   "execution_count": 22,
   "id": "304fc81a-fd92-437e-800f-af6052084211",
   "metadata": {
    "tags": []
   },
   "outputs": [],
   "source": [
    "def divide(a, b):\n",
    "\tassert b != 0, \"Cannot divide by zero!\"\n",
    "\treturn a / b\n"
   ]
  },
  {
   "cell_type": "code",
   "execution_count": 23,
   "id": "99a58565-cfe7-4b5b-a5b9-5b761fa3847a",
   "metadata": {
    "tags": []
   },
   "outputs": [
    {
     "ename": "AssertionError",
     "evalue": "Cannot divide by zero!",
     "output_type": "error",
     "traceback": [
      "\u001b[0;31m---------------------------------------------------------------------------\u001b[0m",
      "\u001b[0;31mAssertionError\u001b[0m                            Traceback (most recent call last)",
      "Cell \u001b[0;32mIn[23], line 1\u001b[0m\n\u001b[0;32m----> 1\u001b[0m \u001b[43mdivide\u001b[49m\u001b[43m(\u001b[49m\u001b[38;5;241;43m2\u001b[39;49m\u001b[43m,\u001b[49m\u001b[43m \u001b[49m\u001b[38;5;241;43m0\u001b[39;49m\u001b[43m)\u001b[49m\n",
      "Cell \u001b[0;32mIn[22], line 2\u001b[0m, in \u001b[0;36mdivide\u001b[0;34m(a, b)\u001b[0m\n\u001b[1;32m      1\u001b[0m \u001b[38;5;28;01mdef\u001b[39;00m \u001b[38;5;21mdivide\u001b[39m(a, b):\n\u001b[0;32m----> 2\u001b[0m \t\u001b[38;5;28;01massert\u001b[39;00m b \u001b[38;5;241m!=\u001b[39m \u001b[38;5;241m0\u001b[39m, \u001b[38;5;124m\"\u001b[39m\u001b[38;5;124mCannot divide by zero!\u001b[39m\u001b[38;5;124m\"\u001b[39m\n\u001b[1;32m      3\u001b[0m \t\u001b[38;5;28;01mreturn\u001b[39;00m a \u001b[38;5;241m/\u001b[39m b\n",
      "\u001b[0;31mAssertionError\u001b[0m: Cannot divide by zero!"
     ]
    }
   ],
   "source": [
    "divide(2, 0)"
   ]
  },
  {
   "cell_type": "code",
   "execution_count": null,
   "id": "ff9aa844-1ac8-4b16-a298-2e8efcec2240",
   "metadata": {
    "tags": []
   },
   "outputs": [],
   "source": [
    "def greet(name):\n",
    "    assert isinstance(name, str), \"Name must be a string!\"\n",
    "    print(f\"Hello, {name}!\")"
   ]
  },
  {
   "cell_type": "code",
   "execution_count": 11,
   "id": "227ef672-b3b5-4c6a-bef6-5df212f13706",
   "metadata": {
    "tags": []
   },
   "outputs": [
    {
     "ename": "AssertionError",
     "evalue": "Name must be a string!",
     "output_type": "error",
     "traceback": [
      "\u001b[0;31m---------------------------------------------------------------------------\u001b[0m",
      "\u001b[0;31mAssertionError\u001b[0m                            Traceback (most recent call last)",
      "Cell \u001b[0;32mIn[11], line 1\u001b[0m\n\u001b[0;32m----> 1\u001b[0m \u001b[43mgreet\u001b[49m\u001b[43m(\u001b[49m\u001b[38;5;241;43m23\u001b[39;49m\u001b[43m)\u001b[49m\n",
      "Cell \u001b[0;32mIn[10], line 2\u001b[0m, in \u001b[0;36mgreet\u001b[0;34m(name)\u001b[0m\n\u001b[1;32m      1\u001b[0m \u001b[38;5;28;01mdef\u001b[39;00m \u001b[38;5;21mgreet\u001b[39m(name):\n\u001b[0;32m----> 2\u001b[0m     \u001b[38;5;28;01massert\u001b[39;00m \u001b[38;5;28misinstance\u001b[39m(name, \u001b[38;5;28mstr\u001b[39m), \u001b[38;5;124m\"\u001b[39m\u001b[38;5;124mName must be a string!\u001b[39m\u001b[38;5;124m\"\u001b[39m\n\u001b[1;32m      3\u001b[0m     \u001b[38;5;28mprint\u001b[39m(\u001b[38;5;124mf\u001b[39m\u001b[38;5;124m\"\u001b[39m\u001b[38;5;124mHello, \u001b[39m\u001b[38;5;132;01m{\u001b[39;00mname\u001b[38;5;132;01m}\u001b[39;00m\u001b[38;5;124m!\u001b[39m\u001b[38;5;124m\"\u001b[39m)\n",
      "\u001b[0;31mAssertionError\u001b[0m: Name must be a string!"
     ]
    }
   ],
   "source": [
    "greet(23)"
   ]
  },
  {
   "cell_type": "code",
   "execution_count": null,
   "id": "2bc00c59-a458-48f2-a0d0-32d33f418d35",
   "metadata": {},
   "outputs": [],
   "source": []
  },
  {
   "cell_type": "code",
   "execution_count": null,
   "id": "f187d365-fee5-46df-82e3-bfb431c62ff4",
   "metadata": {},
   "outputs": [],
   "source": []
  },
  {
   "cell_type": "code",
   "execution_count": null,
   "id": "c944748f-3801-4db1-b5a7-effac71c5ebd",
   "metadata": {},
   "outputs": [],
   "source": []
  }
 ],
 "metadata": {
  "kernelspec": {
   "display_name": "Python 3 (ipykernel)",
   "language": "python",
   "name": "python3"
  },
  "language_info": {
   "codemirror_mode": {
    "name": "ipython",
    "version": 3
   },
   "file_extension": ".py",
   "mimetype": "text/x-python",
   "name": "python",
   "nbconvert_exporter": "python",
   "pygments_lexer": "ipython3",
   "version": "3.10.6"
  }
 },
 "nbformat": 4,
 "nbformat_minor": 5
}
